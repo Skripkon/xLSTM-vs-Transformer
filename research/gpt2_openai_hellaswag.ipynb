{
 "cells": [
  {
   "cell_type": "markdown",
   "metadata": {},
   "source": [
    "#### The code for this experiment is adapted from [this repository](https://github.com/karpathy/build-nanogpt/blob/master/hellaswag.py)"
   ]
  },
  {
   "cell_type": "code",
   "execution_count": 1,
   "metadata": {},
   "outputs": [
    {
     "name": "stderr",
     "output_type": "stream",
     "text": [
      "Evaluating: 10042it [02:47, 59.91it/s]"
     ]
    },
    {
     "name": "stdout",
     "output_type": "stream",
     "text": [
      "acc_norm: 2967/10042=0.2955\n"
     ]
    },
    {
     "name": "stderr",
     "output_type": "stream",
     "text": [
      "\n"
     ]
    }
   ],
   "source": [
    "import os\n",
    "import json\n",
    "import requests\n",
    "import tiktoken\n",
    "from tqdm import tqdm\n",
    "import torch\n",
    "from torch.nn import functional as F\n",
    "from transformers import GPT2LMHeadModel\n",
    "\n",
    "enc = tiktoken.get_encoding(\"gpt2\")\n",
    "DATA_CACHE_DIR = \"hellaswag\"\n",
    "\n",
    "def download_file(url: str, fname: str, chunk_size=1024):\n",
    "    resp = requests.get(url, stream=True)\n",
    "    total = int(resp.headers.get(\"content-length\", 0))\n",
    "    with open(fname, \"wb\") as file, tqdm(\n",
    "        desc=fname,\n",
    "        total=total,\n",
    "        unit=\"iB\",\n",
    "        unit_scale=True,\n",
    "        unit_divisor=1024,\n",
    "    ) as bar:\n",
    "        for data in resp.iter_content(chunk_size=chunk_size):\n",
    "            size = file.write(data)\n",
    "            bar.update(size)\n",
    "\n",
    "def download(split):\n",
    "    os.makedirs(DATA_CACHE_DIR, exist_ok=True)\n",
    "    data_url = f\"https://raw.githubusercontent.com/rowanz/hellaswag/master/data/hellaswag_{split}.jsonl\"\n",
    "    data_filename = os.path.join(DATA_CACHE_DIR, f\"hellaswag_{split}.jsonl\")\n",
    "    if not os.path.exists(data_filename):\n",
    "        download_file(data_url, data_filename)\n",
    "\n",
    "def render_example(example):\n",
    "    ctx = example[\"ctx\"]\n",
    "    label = example[\"label\"]\n",
    "    endings = example[\"endings\"]\n",
    "\n",
    "    ctx_tokens = enc.encode(ctx)\n",
    "    tok_rows = []\n",
    "    mask_rows = []\n",
    "    for end in endings:\n",
    "        end_tokens = enc.encode(\" \" + end)\n",
    "        tok_rows.append(ctx_tokens + end_tokens)\n",
    "        mask_rows.append([0]*len(ctx_tokens) + [1]*len(end_tokens))\n",
    "\n",
    "    max_len = max(len(row) for row in tok_rows)\n",
    "    tokens = torch.zeros((4, max_len), dtype=torch.long)\n",
    "    mask = torch.zeros((4, max_len), dtype=torch.long)\n",
    "    for i, (tok_row, mask_row) in enumerate(zip(tok_rows, mask_rows)):\n",
    "        tokens[i, :len(tok_row)] = torch.tensor(tok_row)\n",
    "        mask[i, :len(mask_row)] = torch.tensor(mask_row)\n",
    "\n",
    "    return tokens, mask, label\n",
    "\n",
    "def iterate_examples(split):\n",
    "    download(split)\n",
    "    with open(os.path.join(DATA_CACHE_DIR, f\"hellaswag_{split}.jsonl\"), \"r\") as f:\n",
    "        for line in f:\n",
    "            yield json.loads(line)\n",
    "\n",
    "@torch.no_grad()\n",
    "def evaluate(device):\n",
    "    model = GPT2LMHeadModel.from_pretrained(\"gpt2\")\n",
    "    model.to(device)\n",
    "\n",
    "    num_correct_norm = 0\n",
    "    num_total = 0\n",
    "    \n",
    "    for example in tqdm(iterate_examples(\"val\"), desc=\"Evaluating\"):\n",
    "        tokens, mask, label = render_example(example)\n",
    "        tokens = tokens.to(device)\n",
    "        mask = mask.to(device)\n",
    "\n",
    "        logits = model(tokens).logits\n",
    "        shift_logits = logits[..., :-1, :].contiguous()\n",
    "        shift_tokens = tokens[..., 1:].contiguous()\n",
    "        flat_shift_logits = shift_logits.view(-1, shift_logits.size(-1))\n",
    "        flat_shift_tokens = shift_tokens.view(-1)\n",
    "        shift_losses = F.cross_entropy(flat_shift_logits, flat_shift_tokens, reduction='none')\n",
    "        shift_losses = shift_losses.view(tokens.size(0), -1)\n",
    "        \n",
    "        shift_mask = mask[..., 1:].contiguous()\n",
    "        masked_shift_losses = shift_losses * shift_mask\n",
    "        sum_loss = masked_shift_losses.sum(dim=1)\n",
    "        avg_loss = sum_loss / shift_mask.sum(dim=1)\n",
    "        \n",
    "        pred_norm = avg_loss.argmin().item()\n",
    "        num_total += 1\n",
    "        num_correct_norm += int(pred_norm == label)\n",
    "\n",
    "    print(f\"acc_norm: {num_correct_norm}/{num_total}={num_correct_norm/num_total:.4f}\")\n",
    "\n",
    "evaluate(\"cuda\")"
   ]
  },
  {
   "cell_type": "markdown",
   "metadata": {},
   "source": [
    "**GPT2 (small) HellaSwag accuracy is 0.2955**"
   ]
  }
 ],
 "metadata": {
  "kernelspec": {
   "display_name": "xlstm",
   "language": "python",
   "name": "python3"
  },
  "language_info": {
   "codemirror_mode": {
    "name": "ipython",
    "version": 3
   },
   "file_extension": ".py",
   "mimetype": "text/x-python",
   "name": "python",
   "nbconvert_exporter": "python",
   "pygments_lexer": "ipython3",
   "version": "3.11.12"
  }
 },
 "nbformat": 4,
 "nbformat_minor": 2
}
